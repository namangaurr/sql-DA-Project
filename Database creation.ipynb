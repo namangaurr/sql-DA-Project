{
 "cells": [
  {
   "cell_type": "code",
   "execution_count": 1,
   "id": "0181f66a",
   "metadata": {},
   "outputs": [],
   "source": [
    "import json\n",
    "import pandas as pd\n",
    "from sqlalchemy import create_engine"
   ]
  },
  {
   "cell_type": "code",
   "execution_count": 2,
   "id": "0b5ed907",
   "metadata": {},
   "outputs": [],
   "source": [
    "with open('yelp_academic_dataset_business.json', 'r') as f:\n",
    "       business_data = [json.loads(line) for line in f]\n",
    "business_df = pd.DataFrame(business_data)\n",
    "\n",
    "with open('yelp_academic_dataset_checkin.json', 'r') as f:\n",
    "    checkin_data = [json.loads(line) for line in f]\n",
    "checkin_df = pd.DataFrame(checkin_data)\n",
    "\n",
    "with open('yelp_academic_dataset_review.json', 'r') as f:\n",
    "    review_data = [json.loads(line) for line in f]\n",
    "review_df = pd.DataFrame(review_data)\n",
    "\n",
    "with open('yelp_academic_dataset_tip.json', 'r') as f:\n",
    "    tip_data = [json.loads(line) for line in f]\n",
    "tip_df = pd.DataFrame(tip_data)\n",
    "\n",
    "with open('yelp_academic_dataset_user.json', 'r') as f:\n",
    "    user_data = [json.loads(line) for line in f]\n",
    "user_df = pd.DataFrame(user_data)\n",
    "\n",
    "    "
   ]
  },
  {
   "cell_type": "code",
   "execution_count": 3,
   "id": "f11ab0cc",
   "metadata": {},
   "outputs": [
    {
     "name": "stdout",
     "output_type": "stream",
     "text": [
      "(150346, 14)\n",
      "(131930, 2)\n",
      "(6990280, 9)\n",
      "(908915, 5)\n",
      "(1987897, 22)\n"
     ]
    }
   ],
   "source": [
    "print(business_df.shape)\n",
    "print(checkin_df.shape)\n",
    "print(review_df.shape)\n",
    "print(tip_df.shape)\n",
    "print(user_df.shape)\n",
    "\n"
   ]
  },
  {
   "cell_type": "code",
   "execution_count": 4,
   "id": "045d35d1",
   "metadata": {},
   "outputs": [],
   "source": [
    "business_df.drop(['attributes','hours'],axis = 1, inplace = True)"
   ]
  },
  {
   "cell_type": "code",
   "execution_count": 5,
   "id": "294e615c",
   "metadata": {},
   "outputs": [],
   "source": [
    "engine = create_engine('sqlite:///yelp.db')\n",
    "\n",
    "def load_dataframe(df, table_name, engine):\n",
    "    df.to_sql(table_name, con=engine, if_exists='replace', index=False)\n",
    "    \n",
    "load_dataframe(business_df, 'business', engine)\n",
    "load_dataframe(review_df, 'review', engine)\n",
    "load_dataframe(user_df, 'user', engine)\n",
    "load_dataframe(tip_df, 'tip', engine)\n",
    "load_dataframe(checkin_df, 'checkin', engine)\n"
   ]
  },
  {
   "cell_type": "code",
   "execution_count": null,
   "id": "2e5c8b38",
   "metadata": {},
   "outputs": [],
   "source": []
  }
 ],
 "metadata": {
  "kernelspec": {
   "display_name": "Python 3 (ipykernel)",
   "language": "python",
   "name": "python3"
  },
  "language_info": {
   "codemirror_mode": {
    "name": "ipython",
    "version": 3
   },
   "file_extension": ".py",
   "mimetype": "text/x-python",
   "name": "python",
   "nbconvert_exporter": "python",
   "pygments_lexer": "ipython3",
   "version": "3.11.5"
  }
 },
 "nbformat": 4,
 "nbformat_minor": 5
}
